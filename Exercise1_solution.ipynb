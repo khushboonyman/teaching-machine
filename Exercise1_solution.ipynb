{
 "cells": [
  {
   "cell_type": "markdown",
   "metadata": {},
   "source": [
    "CZ1016 EXERCISE 1 PROBLEM 1"
   ]
  },
  {
   "cell_type": "code",
   "execution_count": 2,
   "metadata": {},
   "outputs": [],
   "source": [
    "import pandas as pd"
   ]
  },
  {
   "cell_type": "code",
   "execution_count": 3,
   "metadata": {},
   "outputs": [],
   "source": [
    "csv_file = pd.read_csv('train.csv',header=None)"
   ]
  },
  {
   "cell_type": "code",
   "execution_count": 4,
   "metadata": {},
   "outputs": [
    {
     "name": "stdout",
     "output_type": "stream",
     "text": [
      "type of file  <class 'pandas.core.frame.DataFrame'>  dimensions  (1461, 81)\n"
     ]
    }
   ],
   "source": [
    "print('type of file ', type(csv_file), ' dimensions ',csv_file.shape)"
   ]
  },
  {
   "cell_type": "code",
   "execution_count": null,
   "metadata": {},
   "outputs": [],
   "source": [
    "print('datatype ', csv_file.dtypes)"
   ]
  },
  {
   "cell_type": "code",
   "execution_count": 7,
   "metadata": {},
   "outputs": [
    {
     "name": "stdout",
     "output_type": "stream",
     "text": [
      "<class 'pandas.core.frame.DataFrame'>\n",
      "RangeIndex: 1461 entries, 0 to 1460\n",
      "Data columns (total 81 columns):\n",
      "0     1461 non-null object\n",
      "1     1461 non-null object\n",
      "2     1461 non-null object\n",
      "3     1202 non-null object\n",
      "4     1461 non-null object\n",
      "5     1461 non-null object\n",
      "6     92 non-null object\n",
      "7     1461 non-null object\n",
      "8     1461 non-null object\n",
      "9     1461 non-null object\n",
      "10    1461 non-null object\n",
      "11    1461 non-null object\n",
      "12    1461 non-null object\n",
      "13    1461 non-null object\n",
      "14    1461 non-null object\n",
      "15    1461 non-null object\n",
      "16    1461 non-null object\n",
      "17    1461 non-null object\n",
      "18    1461 non-null object\n",
      "19    1461 non-null object\n",
      "20    1461 non-null object\n",
      "21    1461 non-null object\n",
      "22    1461 non-null object\n",
      "23    1461 non-null object\n",
      "24    1461 non-null object\n",
      "25    1453 non-null object\n",
      "26    1453 non-null object\n",
      "27    1461 non-null object\n",
      "28    1461 non-null object\n",
      "29    1461 non-null object\n",
      "30    1424 non-null object\n",
      "31    1424 non-null object\n",
      "32    1423 non-null object\n",
      "33    1424 non-null object\n",
      "34    1461 non-null object\n",
      "35    1423 non-null object\n",
      "36    1461 non-null object\n",
      "37    1461 non-null object\n",
      "38    1461 non-null object\n",
      "39    1461 non-null object\n",
      "40    1461 non-null object\n",
      "41    1461 non-null object\n",
      "42    1460 non-null object\n",
      "43    1461 non-null object\n",
      "44    1461 non-null object\n",
      "45    1461 non-null object\n",
      "46    1461 non-null object\n",
      "47    1461 non-null object\n",
      "48    1461 non-null object\n",
      "49    1461 non-null object\n",
      "50    1461 non-null object\n",
      "51    1461 non-null object\n",
      "52    1461 non-null object\n",
      "53    1461 non-null object\n",
      "54    1461 non-null object\n",
      "55    1461 non-null object\n",
      "56    1461 non-null object\n",
      "57    771 non-null object\n",
      "58    1380 non-null object\n",
      "59    1380 non-null object\n",
      "60    1380 non-null object\n",
      "61    1461 non-null object\n",
      "62    1461 non-null object\n",
      "63    1380 non-null object\n",
      "64    1380 non-null object\n",
      "65    1461 non-null object\n",
      "66    1461 non-null object\n",
      "67    1461 non-null object\n",
      "68    1461 non-null object\n",
      "69    1461 non-null object\n",
      "70    1461 non-null object\n",
      "71    1461 non-null object\n",
      "72    8 non-null object\n",
      "73    282 non-null object\n",
      "74    55 non-null object\n",
      "75    1461 non-null object\n",
      "76    1461 non-null object\n",
      "77    1461 non-null object\n",
      "78    1461 non-null object\n",
      "79    1461 non-null object\n",
      "80    1461 non-null object\n",
      "dtypes: object(81)\n",
      "memory usage: 924.6+ KB\n"
     ]
    }
   ],
   "source": [
    "csv_file.info()"
   ]
  },
  {
   "cell_type": "code",
   "execution_count": null,
   "metadata": {},
   "outputs": [],
   "source": [
    "csv_file.describe()"
   ]
  },
  {
   "cell_type": "markdown",
   "metadata": {},
   "source": [
    "CZ1016 EXERCISE 1 PROBLEM 2"
   ]
  },
  {
   "cell_type": "code",
   "execution_count": 11,
   "metadata": {},
   "outputs": [],
   "source": [
    "html_page = pd.read_html('https://en.wikipedia.org/wiki/2016_Summer_Olympics_medal_table')"
   ]
  },
  {
   "cell_type": "code",
   "execution_count": 12,
   "metadata": {},
   "outputs": [
    {
     "data": {
      "text/plain": [
       "6"
      ]
     },
     "execution_count": 12,
     "metadata": {},
     "output_type": "execute_result"
    }
   ],
   "source": [
    "len(html_page)"
   ]
  },
  {
   "cell_type": "code",
   "execution_count": 14,
   "metadata": {},
   "outputs": [
    {
     "data": {
      "text/html": [
       "<div>\n",
       "<style scoped>\n",
       "    .dataframe tbody tr th:only-of-type {\n",
       "        vertical-align: middle;\n",
       "    }\n",
       "\n",
       "    .dataframe tbody tr th {\n",
       "        vertical-align: top;\n",
       "    }\n",
       "\n",
       "    .dataframe thead th {\n",
       "        text-align: right;\n",
       "    }\n",
       "</style>\n",
       "<table border=\"1\" class=\"dataframe\">\n",
       "  <thead>\n",
       "    <tr style=\"text-align: right;\">\n",
       "      <th></th>\n",
       "      <th>Rank</th>\n",
       "      <th>NOC</th>\n",
       "      <th>Gold</th>\n",
       "      <th>Silver</th>\n",
       "      <th>Bronze</th>\n",
       "      <th>Total</th>\n",
       "    </tr>\n",
       "  </thead>\n",
       "  <tbody>\n",
       "    <tr>\n",
       "      <th>0</th>\n",
       "      <td>1</td>\n",
       "      <td>United States (USA)</td>\n",
       "      <td>46</td>\n",
       "      <td>37</td>\n",
       "      <td>38</td>\n",
       "      <td>121</td>\n",
       "    </tr>\n",
       "    <tr>\n",
       "      <th>1</th>\n",
       "      <td>2</td>\n",
       "      <td>Great Britain (GBR)</td>\n",
       "      <td>27</td>\n",
       "      <td>23</td>\n",
       "      <td>17</td>\n",
       "      <td>67</td>\n",
       "    </tr>\n",
       "    <tr>\n",
       "      <th>2</th>\n",
       "      <td>3</td>\n",
       "      <td>China (CHN)</td>\n",
       "      <td>26</td>\n",
       "      <td>18</td>\n",
       "      <td>26</td>\n",
       "      <td>70</td>\n",
       "    </tr>\n",
       "    <tr>\n",
       "      <th>3</th>\n",
       "      <td>4</td>\n",
       "      <td>Russia (RUS)</td>\n",
       "      <td>19</td>\n",
       "      <td>17</td>\n",
       "      <td>20</td>\n",
       "      <td>56</td>\n",
       "    </tr>\n",
       "    <tr>\n",
       "      <th>4</th>\n",
       "      <td>5</td>\n",
       "      <td>Germany (GER)</td>\n",
       "      <td>17</td>\n",
       "      <td>10</td>\n",
       "      <td>15</td>\n",
       "      <td>42</td>\n",
       "    </tr>\n",
       "  </tbody>\n",
       "</table>\n",
       "</div>"
      ],
      "text/plain": [
       "  Rank                  NOC  Gold  Silver  Bronze  Total\n",
       "0    1  United States (USA)    46      37      38    121\n",
       "1    2  Great Britain (GBR)    27      23      17     67\n",
       "2    3          China (CHN)    26      18      26     70\n",
       "3    4         Russia (RUS)    19      17      20     56\n",
       "4    5        Germany (GER)    17      10      15     42"
      ]
     },
     "execution_count": 14,
     "metadata": {},
     "output_type": "execute_result"
    }
   ],
   "source": [
    "html_page[1].head()"
   ]
  },
  {
   "cell_type": "code",
   "execution_count": 16,
   "metadata": {},
   "outputs": [],
   "source": [
    "medal_df = pd.DataFrame(html_page[1])"
   ]
  },
  {
   "cell_type": "code",
   "execution_count": 18,
   "metadata": {},
   "outputs": [
    {
     "name": "stdout",
     "output_type": "stream",
     "text": [
      "   Rank                  NOC  Gold  Silver  Bronze  Total\n",
      "0     1  United States (USA)    46      37      38    121\n",
      "1     2  Great Britain (GBR)    27      23      17     67\n",
      "2     3          China (CHN)    26      18      26     70\n",
      "3     4         Russia (RUS)    19      17      20     56\n",
      "4     5        Germany (GER)    17      10      15     42\n",
      "5     6          Japan (JPN)    12       8      21     41\n",
      "6     7         France (FRA)    10      18      14     42\n",
      "7     8    South Korea (KOR)     9       3       9     21\n",
      "8     9          Italy (ITA)     8      12       8     28\n",
      "9    10      Australia (AUS)     8      11      10     29\n",
      "10   11    Netherlands (NED)     8       7       4     19\n",
      "11   12        Hungary (HUN)     8       3       4     15\n",
      "12   13        Brazil (BRA)*     7       6       6     19\n",
      "13   14          Spain (ESP)     7       4       6     17\n",
      "14   15          Kenya (KEN)     6       6       1     13\n",
      "15   16        Jamaica (JAM)     6       3       2     11\n",
      "16   17        Croatia (CRO)     5       3       2     10\n",
      "17   18           Cuba (CUB)     5       2       4     11\n",
      "18   19    New Zealand (NZL)     4       9       5     18\n",
      "19   20         Canada (CAN)     4       3      15     22\n"
     ]
    }
   ],
   "source": [
    "medal_top20 = medal_df[:20]\n",
    "print(medal_top20)"
   ]
  }
 ],
 "metadata": {
  "kernelspec": {
   "display_name": "Python 3",
   "language": "python",
   "name": "python3"
  },
  "language_info": {
   "codemirror_mode": {
    "name": "ipython",
    "version": 3
   },
   "file_extension": ".py",
   "mimetype": "text/x-python",
   "name": "python",
   "nbconvert_exporter": "python",
   "pygments_lexer": "ipython3",
   "version": "3.7.3"
  }
 },
 "nbformat": 4,
 "nbformat_minor": 2
}
